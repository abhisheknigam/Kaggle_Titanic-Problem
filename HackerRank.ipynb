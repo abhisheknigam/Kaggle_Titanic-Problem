{
 "cells": [
  {
   "cell_type": "code",
   "execution_count": 3,
   "metadata": {
    "collapsed": false
   },
   "outputs": [
    {
     "name": "stdout",
     "output_type": "stream",
     "text": [
      "5 3\n",
      "6 6\n",
      "7 10\n",
      "1 1\n"
     ]
    }
   ],
   "source": [
    "a0,a1,a2 = [5,6,7]\n",
    "b0,b1,b2 = [3,6,10]\n",
    "alice = 0\n",
    "bob = 0\n",
    "a = []\n",
    "b=[]\n",
    "a.extend([a0,a1,a2])\n",
    "b.extend([b0,b1,b2])\n",
    "\n",
    "for i in range(0,len(a),1):\n",
    "    print(str(a[i]) + \" \"+ str(b[i]))\n",
    "    if a[i] > b[i]:\n",
    "        alice = alice + 1\n",
    "    elif b[i] > a[i]:\n",
    "        bob = bob + 1\n",
    "\n",
    "print (str(alice) + \" \" + str(bob))"
   ]
  },
  {
   "cell_type": "code",
   "execution_count": null,
   "metadata": {
    "collapsed": true
   },
   "outputs": [],
   "source": []
  }
 ],
 "metadata": {
  "kernelspec": {
   "display_name": "Python [Root]",
   "language": "python",
   "name": "Python [Root]"
  },
  "language_info": {
   "codemirror_mode": {
    "name": "ipython",
    "version": 3
   },
   "file_extension": ".py",
   "mimetype": "text/x-python",
   "name": "python",
   "nbconvert_exporter": "python",
   "pygments_lexer": "ipython3",
   "version": "3.5.2"
  }
 },
 "nbformat": 4,
 "nbformat_minor": 0
}
